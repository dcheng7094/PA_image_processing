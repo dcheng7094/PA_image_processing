{
 "cells": [
  {
   "cell_type": "markdown",
   "metadata": {},
   "source": [
    "# 第二章 "
   ]
  },
  {
   "cell_type": "markdown",
   "metadata": {},
   "source": [
    "## 第一节 灰度直方图和二值化操作"
   ]
  },
  {
   "cell_type": "code",
   "execution_count": null,
   "metadata": {},
   "outputs": [],
   "source": [
    "from PIL import Image\n",
    "import numpy as np\n",
    "import matplotlib.pyplot as plt\n",
    "import cv2\n",
    "\n",
    "img = plt.imread(\"breast.png\")                        #在这里读取图片\n",
    "GrayImage=cv2.cvtColor(img,cv2.COLOR_BGR2GRAY)  # 只能在灰度图中画出直方图！\n",
    "\n",
    "plt.imshow(img)                                     #显示读取的图片"
   ]
  },
  {
   "cell_type": "markdown",
   "metadata": {},
   "source": [
    "#### 直方图画法"
   ]
  },
  {
   "cell_type": "code",
   "execution_count": null,
   "metadata": {},
   "outputs": [],
   "source": [
    "img=np.array(Image.open('breast.png').convert('L'))\n",
    "\n",
    "plt.figure(\"lena\")\n",
    "arr=img.flatten()\n",
    "plt.subplot(211)\n",
    "plt.hist(arr, bins=256)  \n",
    "plt.show()\n",
    "#   hist的参数非常多，但常用的就这五个，只有第一个是必须的，后面四个可选\n",
    "#   arr: 需要计算直方图的一维数组\n",
    "#   bins: 直方图的柱数，可选项，默认为10\n",
    "#   normed: 是否将得到的直方图向量归一化。默认为0\n",
    "#   facecolor: 直方图颜色\n",
    "#   alpha: 透明度\n",
    "\n",
    "plt.subplot(212)\n",
    "plt.hist(GrayImage.ravel(), 256)  # .ravel方法将矩阵转化为一维\n",
    "plt.show()"
   ]
  },
  {
   "cell_type": "markdown",
   "metadata": {},
   "source": [
    "### 图像阈值\n",
    "ret, dst = cv2.threshold(src, thresh, maxval, type)\n",
    "src： 输入图，只能输入单通道图像，通常来说为灰度图\n",
    "\n",
    "dst： 输出图\n",
    "\n",
    "thresh： 阈值\n",
    "\n",
    "maxval： 当像素值超过了阈值（或者小于阈值，根据type来决定），所赋予的值\n",
    "\n",
    "type：二值化操作的类型，包含以下5种类型： cv2.THRESH_BINARY； cv2.THRESH_BINARY_INV； cv2.THRESH_TRUNC； cv2.THRESH_TOZERO；\n",
    "cv2.THRESH_TOZERO_INV\n",
    "\n",
    "1. cv2.THRESH_BINARY 超过阈值部分取maxval（最大值），否则取0\n",
    "\n",
    "2. cv2.THRESH_BINARY_INV THRESH_BINARY的反转\n",
    "\n",
    "3. cv2.THRESH_TRUNC 大于阈值部分设为阈值，否则不变\n",
    "\n",
    "4. cv2.THRESH_TOZERO 大于阈值部分不改变，否则设为0\n",
    "\n",
    "5. cv2.THRESH_TOZERO_INV THRESH_TOZERO的反转"
   ]
  },
  {
   "cell_type": "code",
   "execution_count": null,
   "metadata": {},
   "outputs": [],
   "source": [
    "ret, thresh1 = cv2.threshold(img, 127, 255, cv2.THRESH_BINARY)\n",
    "ret, thresh2 = cv2.threshold(img, 127, 255, cv2.THRESH_BINARY_INV)\n",
    "ret, thresh3 = cv2.threshold(img, 127, 255, cv2.THRESH_TRUNC)\n",
    "ret, thresh4 = cv2.threshold(img, 127, 255, cv2.THRESH_TOZERO)\n",
    "ret, thresh5 = cv2.threshold(img, 127, 255, cv2.THRESH_TOZERO_INV)\n",
    "\n",
    "\n",
    "titles = ['Original Image', 'BINARY', 'BINARY_INV', 'TRUNC', 'TOZERO', 'TOZERO_INV']\n",
    "images = [img, thresh1, thresh2, thresh3, thresh4, thresh5]\n",
    "\n",
    "for i in range(6):\n",
    "    plt.subplot(2, 3, i + 1), plt.imshow(images[i], 'gray')\n",
    "    plt.title(titles[i])\n",
    "    plt.xticks([]), plt.yticks([])\n",
    "plt.show()"
   ]
  },
  {
   "cell_type": "markdown",
   "metadata": {},
   "source": [
    "###  OSTU算法"
   ]
  },
  {
   "cell_type": "code",
   "execution_count": null,
   "metadata": {},
   "outputs": [],
   "source": [
    "ret,thresh1 = cv2.threshold(img, 0, 255, cv2.THRESH_OTSU)  #方法选择为THRESH_OTSU\n",
    "# threshold=ret\n",
    "plt.imshow(thresh1,'gray')"
   ]
  },
  {
   "cell_type": "markdown",
   "metadata": {},
   "source": [
    "### 自适应阈值\n",
    "- adaptiveThreshold(src, maxValue, adaptiveMethod, thresholdType, blockSize, C, dst=None)\n",
    "- src: 指原图像，原图像应该是灰度图\n",
    "- maxValue: 指当像素值高于（有时是小于）阈值时应该被赋予的新的像素值\n",
    "- adaptiveMethod: 指CV_ADAPTIVE_THRESH_MEAN_C 或 CV_ADAPTIVE_THRESH_GAUSSIAN_C\n",
    "- thresholdType: 指取阈值类型，必须是CV_THRESH_BINARY 或者 CV_THRESH_BINARY_INV\n",
    "- blockSize: 指用来计算阈值的像素领域大小：3,5,7,…\n",
    "- C: 指与方法有关的参数。阈值等于均值或者加权值减去这个常数（为0相当于阈值 就是求得领域内均值或者加权值）"
   ]
  },
  {
   "cell_type": "code",
   "execution_count": 37,
   "metadata": {},
   "outputs": [],
   "source": [
    "threshold_1= cv2.adaptiveThreshold(img,255,cv2.ADAPTIVE_THRESH_MEAN_C,cv2.THRESH_BINARY,7,2)\n",
    "threshold_2 = cv2.adaptiveThreshold(img,255,cv2.ADAPTIVE_THRESH_GAUSSIAN_C,cv2.THRESH_BINARY,3,2)\n"
   ]
  },
  {
   "cell_type": "code",
   "execution_count": 38,
   "metadata": {},
   "outputs": [],
   "source": [
    "cv2.imshow('threshold_2', threshold_2)\n",
    "cv2.waitKey(0)\n",
    "cv2.destroyAllWindows()"
   ]
  },
  {
   "cell_type": "markdown",
   "metadata": {},
   "source": [
    "## 第二节 Convolution Application 卷积运算和图像滤波"
   ]
  },
  {
   "cell_type": "code",
   "execution_count": null,
   "metadata": {},
   "outputs": [],
   "source": [
    "    # sobel算子,分别是水平方向,垂直方向和不分方向\n",
    "    sobel_x = np.array(([-1, 0, 1], [-2, 0, 2], [-1, 0, 1]))\n",
    "    sobel_y = np.array(([-1, -2, -1], [0, 0, 0], [1, 2, 1]))\n",
    "    sobel = np.array(([-1, -1, 0], [-1, 0, 1], [0, 1, 1]))\n",
    "    # prewitt各个方向上的算子\n",
    "    prewitt_x = np.array(([-1, 0, 1], [-1, 0, 1], [-1, 0, 1]))\n",
    "    prewitt_y = np.array(([-1, -1, -1], [0, 0, 0], [1, 1, 1]))\n",
    "    prewitt = np.array(([-2, -1, 0], [-1, 0, 1], [0, 1, 2]))\n",
    "    # 拉普拉斯算子\n",
    "    laplacian = np.array(([0, -1, 0], [-1, 4, -1], [0, -1, 0]))\n",
    "    laplacian_2 = np.array(([-1, -1, -1], [-1, 8, -1], [-1, -1, -1]))\n",
    "    weight_list = (\"sobel_x\", \"sobel_y\", \"sobel\", \"prewitt_x\", \"prewitt_y\", \"prewitt\", \"laplacian\", \"laplacian_2\")"
   ]
  },
  {
   "cell_type": "code",
   "execution_count": null,
   "metadata": {
    "scrolled": true
   },
   "outputs": [],
   "source": [
    "import matplotlib.pyplot as plt\n",
    "import cv2\n",
    "import numpy as np\n",
    "%matplotlib inline \n",
    " \n",
    "# img = plt.imread(\"test2.png\")                        #在这里读取图片\n",
    "# plt.imshow(img)                                     #显示读取的图片\n",
    "\n",
    "# img=cv2.imread('test2.png',cv2.IMREAD_GRAYSCALE)\n",
    "# img=cv2.imread('pepper.png')\n",
    "img=cv2.imread('fruit.png',cv2.IMREAD_GRAYSCALE) #转换成灰度图\n",
    "print(img.dtype) #unit8\n",
    "\n",
    "img.shape"
   ]
  },
  {
   "cell_type": "code",
   "execution_count": null,
   "metadata": {},
   "outputs": [],
   "source": [
    "def cv_show(name,img):\n",
    "    cv2.imshow(name,img) \n",
    "    cv2.waitKey(0) \n",
    "    cv2.destroyAllWindows()\n",
    "    # 图像显示\n",
    "cv_show('img',img)"
   ]
  },
  {
   "cell_type": "markdown",
   "metadata": {},
   "source": [
    "#### Sobel卷积算子"
   ]
  },
  {
   "cell_type": "code",
   "execution_count": null,
   "metadata": {},
   "outputs": [],
   "source": [
    "sobel_x = np.array(([-1, 0, 1], [-2, 0, 2], [-1, 0, 1]))  #这个是设置的滤波，也就是卷积核\n",
    "sobel_y = np.array(([-1, -2, -1], [0, 0, 0], [1, 2, 1]))\n",
    "sobel = np.array(([-1, -1, 0], [-1, 0, 1], [0, 1, 1]))\n",
    "\n",
    "res_x = cv2.filter2D(img,-1,sobel_x)                      #使用opencv的卷积函数\n",
    "res_y = cv2.filter2D(img,-1,sobel_y)                      \n",
    "res = cv2.filter2D(img,-1,sobel)                \n",
    "\n",
    "cv_show('res',res)                                #显示卷积后的图片\n"
   ]
  },
  {
   "cell_type": "code",
   "execution_count": null,
   "metadata": {},
   "outputs": [],
   "source": [
    "diff = np.array(([-1, -1,-1], [-1, 8, -1], [-1, -1, -1]))\n",
    "Median_Filter3=np.array(([1/9, 1/9,1/9], [1/9, 1/9, 1/9], [1/9,1/9, 1/9])) #3*3中值滤波\n",
    "Median_Filter5=np.array(([1/9, 1/9,1/9,1/9,1/9], [1/9,1/9,1/9 ,1/9, 1/9], [1/9,1/9,1/9,1/9, 1/9])) #5*5中值滤波\n",
    "res = cv2.filter2D(img,-1,Median_Filter3)    \n",
    "cv_show('res',res)   \n",
    "#边界加强"
   ]
  },
  {
   "cell_type": "markdown",
   "metadata": {},
   "source": [
    "### 第三节 Basic Image Operations\n",
    "• 点操作 (Point operation)\n",
    "• 代数操作 (Algebraic operation)\n",
    "• 几何操作 (Geometric operation)"
   ]
  },
  {
   "cell_type": "markdown",
   "metadata": {},
   "source": [
    "#### Labeling Algorithm"
   ]
  },
  {
   "cell_type": "markdown",
   "metadata": {},
   "source": [
    "连通组件标记\n",
    "✔️ 概念： 连接组件标记算法(connected component labeling algorithm)是图像分析中最常用的算法之一，算法的实质是扫描二值图像的每个像素点，对于像素值相同的而且相互连通分为相同的组(group),最终得到图像中所有的像素连通组件。\n",
    "\n",
    "✔️ 函数： retval, labels =cv2.connectedComponents(image, connectivity, ltype)\n",
    "\n",
    "输入:\n",
    "image, // 输入二值图像，黑色背景\n",
    "connectivity = 8, // 连通域，默认是8连通\n",
    "ltype = CV_32, // 输出的labels类型，默认是CV_32S 输出\n",
    "\n",
    "retval, //num_labels - labels, // 输出的标记图像，背景index=0"
   ]
  },
  {
   "cell_type": "code",
   "execution_count": 1,
   "metadata": {},
   "outputs": [
    {
     "name": "stdout",
     "output_type": "stream",
     "text": [
      "6\n",
      "total componets :  5\n"
     ]
    }
   ],
   "source": [
    "import cv2 as cv\n",
    "import numpy as np\n",
    "\n",
    "src = cv.imread(\"ball.jpg\")\n",
    "\n",
    "src = cv.GaussianBlur(src, (3, 3), 0.1) # 进行高斯滤波；第三个参数sigmaX可以影响模糊效果\n",
    "cv.imshow(\"src\", src)\n",
    "\n",
    "gray = cv.cvtColor(src, cv.COLOR_BGR2GRAY)\n",
    "ret, binary = cv.threshold(gray, 0, 255, cv.THRESH_BINARY | cv.THRESH_OTSU)\n",
    "cv.imshow(\"binary\", binary)\n",
    "# cv.imwrite('binary.png', binary)\n",
    "\n",
    "output = cv.connectedComponents(binary, connectivity=4, ltype=cv.CV_32S) # 4- or 8-connected components\n",
    "num_labels = output[0]\n",
    "print(num_labels)  # output: 5\n",
    "labels = output[1]\n",
    "\n",
    "# 随机构造颜色\n",
    "colors = []\n",
    "for i in range(num_labels):\n",
    "    b = np.random.randint(0, 256)\n",
    "    g = np.random.randint(0, 256)\n",
    "    r = np.random.randint(0, 256)\n",
    "    colors.append((b, g, r))\n",
    "colors[0] = (0, 0, 0)\n",
    "\n",
    "# 画出连通图\n",
    "h, w = gray.shape\n",
    "image = np.zeros((h, w, 3), dtype=np.uint8)\n",
    "for row in range(h):\n",
    "    for col in range(w):\n",
    "        image[row, col] = colors[labels[row, col]]\n",
    "\n",
    "cv.imshow(\"colored labels\", image)\n",
    "# cv.imwrite(\"labels.png\", image)\n",
    "print(\"total componets : \", num_labels - 1)\n",
    "cv.waitKey(0)\n",
    "cv.destroyAllWindows()"
   ]
  },
  {
   "cell_type": "markdown",
   "metadata": {},
   "source": [
    "连通组件状态统计\n",
    "\n",
    "✔️ 函数： retval, labels, stats, centroids=cv2.connectedComponentsWithStats(image, connectivity, ltype )\n",
    "\n",
    "相关的统计信息包括在输出stats的对象中，每个连通组件有一个这样的输出结构体.\n",
    "\n",
    "CC_STAT_LEFT: 连通组件外接矩形左上角坐标的X位置信息\n",
    "\n",
    "CC_STAT_TOP: 连通组件外接左上角坐标的Y位置信息\n",
    "\n",
    "CC_STAT_WIDTH: 连通组件外接矩形宽度\n",
    "\n",
    "CC_STAT_HEIGHT: 连通组件外接矩形高度\n",
    "\n",
    "CC_STAT_AREA: 连通组件的面积大小，基于像素多少统计\n",
    "\n",
    "Centroids输出的是每个连通组件的中心位置坐标(x, y)"
   ]
  },
  {
   "cell_type": "code",
   "execution_count": 4,
   "metadata": {},
   "outputs": [
    {
     "name": "stdout",
     "output_type": "stream",
     "text": [
      "label index 1, area of the label : 9\n",
      "total number :  32\n",
      "label index 2, area of the label : 9\n",
      "total number :  32\n",
      "label index 3, area of the label : 9\n",
      "total number :  32\n",
      "label index 4, area of the label : 107\n",
      "total number :  32\n",
      "label index 5, area of the label : 2798\n",
      "total number :  32\n",
      "label index 6, area of the label : 2323\n",
      "total number :  32\n",
      "label index 7, area of the label : 29\n",
      "total number :  32\n",
      "label index 8, area of the label : 12\n",
      "total number :  32\n",
      "label index 9, area of the label : 118\n",
      "total number :  32\n",
      "label index 10, area of the label : 59\n",
      "total number :  32\n",
      "label index 11, area of the label : 20\n",
      "total number :  32\n",
      "label index 12, area of the label : 41\n",
      "total number :  32\n",
      "label index 13, area of the label : 61\n",
      "total number :  32\n",
      "label index 14, area of the label : 166\n",
      "total number :  32\n",
      "label index 15, area of the label : 112\n",
      "total number :  32\n",
      "label index 16, area of the label : 580\n",
      "total number :  32\n",
      "label index 17, area of the label : 55\n",
      "total number :  32\n",
      "label index 18, area of the label : 135\n",
      "total number :  32\n",
      "label index 19, area of the label : 43\n",
      "total number :  32\n",
      "label index 20, area of the label : 432\n",
      "total number :  32\n",
      "label index 21, area of the label : 194\n",
      "total number :  32\n",
      "label index 22, area of the label : 28\n",
      "total number :  32\n",
      "label index 23, area of the label : 30\n",
      "total number :  32\n",
      "label index 24, area of the label : 12\n",
      "total number :  32\n",
      "label index 25, area of the label : 15\n",
      "total number :  32\n",
      "label index 26, area of the label : 66\n",
      "total number :  32\n",
      "label index 27, area of the label : 12\n",
      "total number :  32\n",
      "label index 28, area of the label : 16\n",
      "total number :  32\n",
      "label index 29, area of the label : 28\n",
      "total number :  32\n",
      "label index 30, area of the label : 12\n",
      "total number :  32\n",
      "label index 31, area of the label : 15\n",
      "total number :  32\n",
      "label index 32, area of the label : 4\n",
      "total number :  32\n"
     ]
    }
   ],
   "source": [
    "import cv2 as cv\n",
    "import numpy as np\n",
    "\n",
    "src = cv.imread(\"3.jpg\")\n",
    "\n",
    "src = cv.GaussianBlur(src, (3, 3), 0)\n",
    "gray = cv.cvtColor(src, cv.COLOR_BGR2GRAY)\n",
    "ret, binary_ = cv.threshold(gray, 0, 255, cv.THRESH_BINARY | cv.THRESH_OTSU)\n",
    "\n",
    "# 使用开运算去掉外部的噪声\n",
    "kernel = cv.getStructuringElement(cv.MORPH_RECT, (3, 3)) #元素均为1\n",
    "binary = cv.morphologyEx(binary_, cv.MORPH_OPEN, kernel)\n",
    "cv.imshow(\"binary\", binary_)\n",
    "\n",
    "num_labels, labels, stats, centers = cv.connectedComponentsWithStats(binary, connectivity=8, ltype=cv.CV_32S)\n",
    "\n",
    "colors = []\n",
    "for i in range(num_labels):\n",
    "    b = np.random.randint(0, 256)\n",
    "    g = np.random.randint(0, 256)\n",
    "    r = np.random.randint(0, 256)\n",
    "    colors.append((b, g, r))\n",
    "\n",
    "colors[0] = (0, 0, 0)\n",
    "\n",
    "image = np.copy(src)\n",
    "for t in range(1, num_labels, 1):\n",
    "    x, y, w, h, area = stats[t]\n",
    "    cx, cy = centers[t]\n",
    "    # 标出中心位置\n",
    "    cv.circle(image, (np.int32(cx), np.int32(cy)), 2, (0, 255, 0), 2, 8, 0)\n",
    "    # 画出外接矩形\n",
    "    cv.rectangle(image, (x, y), (x+w, y+h), colors[t], 1, 8, 0)\n",
    "    cv.putText(image, \"No.\" + str(t), (x, y), cv.FONT_HERSHEY_SIMPLEX, .5, (0, 0, 255), 1);\n",
    "    print(\"label index %d, area of the label : %d\"%(t, area))\n",
    "\n",
    "    cv.imshow(\"colored labels\", image)\n",
    "#     cv.imwrite(\"labels.png\", image)\n",
    "    print(\"total number : \", num_labels - 1)\n",
    "\n",
    "# input = cv.imread(\"granule.jpg\")\n",
    "# connected_components_stats_demo(input)\n",
    "\n",
    "cv.waitKey(0)\n",
    "cv.destroyAllWindows()"
   ]
  },
  {
   "cell_type": "code",
   "execution_count": 3,
   "metadata": {},
   "outputs": [
    {
     "data": {
      "text/plain": [
       "array([[1, 1, 1],\n",
       "       [1, 1, 1],\n",
       "       [1, 1, 1]], dtype=uint8)"
      ]
     },
     "execution_count": 3,
     "metadata": {},
     "output_type": "execute_result"
    }
   ],
   "source": [
    "kernel"
   ]
  }
 ],
 "metadata": {
  "kernelspec": {
   "display_name": "Python 3",
   "language": "python",
   "name": "python3"
  },
  "language_info": {
   "codemirror_mode": {
    "name": "ipython",
    "version": 3
   },
   "file_extension": ".py",
   "mimetype": "text/x-python",
   "name": "python",
   "nbconvert_exporter": "python",
   "pygments_lexer": "ipython3",
   "version": "3.6.0"
  }
 },
 "nbformat": 4,
 "nbformat_minor": 4
}
